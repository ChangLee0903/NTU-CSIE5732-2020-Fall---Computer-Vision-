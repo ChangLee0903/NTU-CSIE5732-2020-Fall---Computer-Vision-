{
 "cells": [
  {
   "cell_type": "code",
   "execution_count": 2,
   "metadata": {},
   "outputs": [],
   "source": [
    "import numpy as np\n",
    "from PIL import Image\n",
    "import os\n",
    "import scipy\n",
    "\n",
    "# read lena.bmp\n",
    "sample_img = Image.open('lena.bmp')\n",
    "sample_arr = np.array(sample_img).astype(int)\n",
    "\n",
    "# build output directory\n",
    "if not os.path.exists('results'):\n",
    "    os.mkdir('results')"
   ]
  },
  {
   "cell_type": "code",
   "execution_count": 9,
   "metadata": {},
   "outputs": [],
   "source": [
    "def border_extend(img):\n",
    "    img_ext = np.zeros((img.shape[0] + 2, img.shape[1] + 2))\n",
    "    img_ext[0, 1:-1] = img[0, :]    # copy the first row\n",
    "    img_ext[-1, 1:-1] = img[-1, :]  # copy the last row\n",
    "    img_ext[1:-1, 0] = img[:, 0]    # copy the first column\n",
    "    img_ext[1:-1, -1] = img[:, -1]  # copy the last column\n",
    "    img_ext[0, 0] = img[0, 0]       # copy the top-left element\n",
    "    img_ext[0, -1] = img[0, -1]     # copy the top-right element\n",
    "    img_ext[-1, 0] = img[-1, 0]     # copy the bottom-left element\n",
    "    img_ext[-1, -1] = img[-1, -1]   # copy the bottom-right element\n",
    "    img_ext[1:-1, 1:-1] = img[:, :] # copy the rest\n",
    "    return img_ext\n",
    "\n",
    "def convolve(A, B):\n",
    "    assert A.shape == B.shape\n",
    "    value = 0\n",
    "    for i in xrange(A.shape[0]):\n",
    "        for j in xrange(A.shape[1]):\n",
    "            value += (A[i, j] * B[B.shape[0] - i - 1, B.shape[1] - j - 1])\n",
    "    return value\n",
    "\n",
    "def binarize(img, thr):\n",
    "    img_bin = np.zeros(img.shape)\n",
    "    img_bin[img <= thr] = 255\n",
    "    return img_bin\n",
    "    \n",
    "def roberts(img, thr):\n",
    "    img_bin = binarize(img, thr)\n",
    "    k1 = np.array([\n",
    "        [1, 0],\n",
    "        [0, -1]\n",
    "    ])\n",
    "    k2 = np.array([\n",
    "        [0, 1],\n",
    "        [-1, 0]\n",
    "    ])\n",
    "#     Gx = np.zeros((img_bin.shape[0] - 1, img_bin.shape[1] - 1))\n",
    "#     Gy = np.zeros((img_bin.shape[0] - 1, img_bin.shape[1] - 1))\n",
    "    \n",
    "    Gx = np.convolve(img_bin.flatten(), k1.flatten())\n",
    "    Gy = np.convolve(img_bin.flatten(), k2.flatten())\n",
    "    \n",
    "#     for i in range(Gx.shape[0]):\n",
    "#         for j in range(Gx.shape[1]):\n",
    "#             Gx[i, j] = convolve(img[i:i+2, j:j+2], k1)\n",
    "#             Gy[i, j] = convolve(img[i:i+2, j:j+2], k2)\n",
    "    G = np.sqrt(Gx ** 2 + Gy ** 2)\n",
    "    return G\n",
    "\n",
    "def Prewitt(img):\n",
    "    img = np.asarray(a=img, dtype=np.int)\n",
    "    k1 = np.array([\n",
    "        [-1, 0, 1],\n",
    "        [-1, 0, 1],\n",
    "        [-1, 0, 1]\n",
    "    ])\n",
    "    k2 = np.array([\n",
    "        [-1, -1, -1],\n",
    "        [0, 0, 0],\n",
    "        [1, 1, 1]\n",
    "    ])\n",
    "    Gx = np.zeros((img.shape[0] - 2, img.shape[1] - 2), np.int)\n",
    "    Gy = np.zeros((img.shape[0] - 2, img.shape[1] - 2), np.int)\n",
    "    for i in xrange(Gx.shape[0]):\n",
    "        for j in xrange(Gx.shape[1]):\n",
    "            Gx[i, j] = convolve(img[i:i+3, j:j+3], k1)\n",
    "            Gy[i, j] = convolve(img[i:i+3, j:j+3], k2)\n",
    "    G = np.sqrt(Gx ** 2 + Gy ** 2)\n",
    "    return G\n",
    "\n",
    "def Sobel(img):\n",
    "    img = np.asarray(a=img, dtype=np.int)\n",
    "    k1 = np.array([\n",
    "        [-1, 0, 1],\n",
    "        [-2, 0, 2],\n",
    "        [-1, 0, 1]\n",
    "    ])\n",
    "    k2 = np.array([\n",
    "        [-1, -2, -1],\n",
    "        [0, 0, 0],\n",
    "        [1, 2, 1]\n",
    "    ])\n",
    "    Gx = np.zeros((img.shape[0] - 2, img.shape[1] - 2), np.int)\n",
    "    Gy = np.zeros((img.shape[0] - 2, img.shape[1] - 2), np.int)\n",
    "    for i in xrange(Gx.shape[0]):\n",
    "        for j in xrange(Gx.shape[1]):\n",
    "            Gx[i, j] = convolve(img[i:i+3, j:j+3], k1)\n",
    "            Gy[i, j] = convolve(img[i:i+3, j:j+3], k2)\n",
    "    G = np.sqrt(Gx ** 2 + Gy ** 2)\n",
    "    return G\n",
    "\n",
    "def Frei(img):\n",
    "    img = np.asarray(a=img, dtype=np.int)\n",
    "    k1 = np.array([\n",
    "        [-1, -np.sqrt(2), -1],\n",
    "        [0, 0, 0],\n",
    "        [1, np.sqrt(2), 1]\n",
    "    ])\n",
    "    k2 = np.array([\n",
    "        [-1, 0, 1],\n",
    "        [-np.sqrt(2), 0, np.sqrt(2)],\n",
    "        [-1, 0, 1]\n",
    "    ])\n",
    "    Gx = np.zeros((img.shape[0] - 2, img.shape[1] - 2), np.int)\n",
    "    Gy = np.zeros((img.shape[0] - 2, img.shape[1] - 2), np.int)\n",
    "    for i in xrange(Gx.shape[0]):\n",
    "        for j in xrange(Gx.shape[1]):\n",
    "            Gx[i, j] = convolve(img[i:i+3, j:j+3], k1)\n",
    "            Gy[i, j] = convolve(img[i:i+3, j:j+3], k2)\n",
    "    G = np.sqrt(Gx ** 2 + Gy ** 2)\n",
    "    return G\n",
    "    \n",
    "\n",
    "def Kirsch(img):\n",
    "    img = np.asarray(a=img, dtype=np.int)\n",
    "    k0 = np.array([\n",
    "        [-3, -3, 5],\n",
    "        [-3, 0, 5],\n",
    "        [-3, -3, 5]\n",
    "    ])\n",
    "    k1 = np.array([\n",
    "        [-3, 5, 5],\n",
    "        [-3, 0, 5],\n",
    "        [-3, -3, -3]\n",
    "    ])\n",
    "    k2 = np.array([\n",
    "        [5, 5, 5],\n",
    "        [-3, 0, -3],\n",
    "        [-3, -3, -3]\n",
    "    ])\n",
    "    k3 = np.array([\n",
    "        [5, 5, -3],\n",
    "        [5, 0, -3],\n",
    "        [-3, -3, -3]\n",
    "    ])\n",
    "    k4 = np.array([\n",
    "        [5, -3, -3],\n",
    "        [5, 0, -3],\n",
    "        [5, -3, -3]\n",
    "    ])\n",
    "    k5 = np.array([\n",
    "        [-3, -3, -3],\n",
    "        [5, 0, -3],\n",
    "        [5, 5, -3]\n",
    "    ])\n",
    "    k6 = np.array([\n",
    "        [-3, -3, -3],\n",
    "        [-3, 0, -3],\n",
    "        [5, 5, 5]\n",
    "    ])\n",
    "    k7 = np.array([\n",
    "        [-3, -3, -3],\n",
    "        [-3, 0, 5],\n",
    "        [-3, 5, 5]\n",
    "    ])\n",
    "    G = np.zeros((img.shape[0] - 2, img.shape[1] - 2), np.int)\n",
    "    for i in xrange(G.shape[0]):\n",
    "        for j in xrange(G.shape[1]):\n",
    "            g0 = convolve(img[i:i+3, j:j+3], k0)\n",
    "            g1 = convolve(img[i:i+3, j:j+3], k1)\n",
    "            g2 = convolve(img[i:i+3, j:j+3], k2)\n",
    "            g3 = convolve(img[i:i+3, j:j+3], k3)\n",
    "            g4 = convolve(img[i:i+3, j:j+3], k4)\n",
    "            g5 = convolve(img[i:i+3, j:j+3], k5)\n",
    "            g6 = convolve(img[i:i+3, j:j+3], k6)\n",
    "            g7 = convolve(img[i:i+3, j:j+3], k7)\n",
    "            G[i, j] = np.max([g0, g1, g2, g3, g4, g5, g6, g7])\n",
    "    return G\n",
    "\n",
    "def Robinson(img):\n",
    "    img = np.asarray(a=img, dtype=np.int)\n",
    "    G = np.zeros((img.shape[0] - 2, img.shape[1] - 2), np.int)\n",
    "    k0 = np.array([\n",
    "        [-1, 0, 1],\n",
    "        [-2, 0, 2],\n",
    "        [-1, 0, 1]\n",
    "    ])\n",
    "    k1 = np.array([\n",
    "        [0, 1, 2],\n",
    "        [-1, 0, 1],\n",
    "        [-2, -1, 0]\n",
    "    ])\n",
    "    k2 = np.array([\n",
    "        [1, 2, 1],\n",
    "        [0, 0, 0],\n",
    "        [-1, -2, -1]\n",
    "    ])\n",
    "    k3 = np.array([\n",
    "        [2, 1, 0],\n",
    "        [1, 0, -1],\n",
    "        [0, -1, -2]\n",
    "    ])\n",
    "    k4 = np.array([\n",
    "        [1, 0, -1],\n",
    "        [2, 0, -2],\n",
    "        [1, 0, -1]\n",
    "    ])\n",
    "    k5 = np.array([\n",
    "        [0, -1, -2],\n",
    "        [1, 0, -1],\n",
    "        [2, 1, 0]\n",
    "    ])\n",
    "    k6 = np.array([\n",
    "        [-1, -2, -1],\n",
    "        [0, 0, 0],\n",
    "        [1, 2, 1]\n",
    "    ])\n",
    "    k7 = np.array([\n",
    "        [-2, -1, 0],\n",
    "        [-1, 0, 1],\n",
    "        [0, 1, 2]\n",
    "    ])\n",
    "    for i in xrange(G.shape[0]):\n",
    "        for j in xrange(G.shape[1]):\n",
    "            r0 = convolve(img[i:i+3, j:j+3], k0)\n",
    "            r1 = convolve(img[i:i+3, j:j+3], k1)\n",
    "            r2 = convolve(img[i:i+3, j:j+3], k2)\n",
    "            r3 = convolve(img[i:i+3, j:j+3], k3)\n",
    "            r4 = convolve(img[i:i+3, j:j+3], k4)\n",
    "            r5 = convolve(img[i:i+3, j:j+3], k5)\n",
    "            r6 = convolve(img[i:i+3, j:j+3], k6)\n",
    "            r7 = convolve(img[i:i+3, j:j+3], k7)\n",
    "            G[i, j] = np.max([r0, r1, r2, r3, r4, r5, r6, r7])\n",
    "    return G\n",
    "\n",
    "def Nevatia(img):\n",
    "    img = np.asarray(a=img, dtype=np.int)\n",
    "    k0 = np.array([\n",
    "        [100, 100, 100, 100, 100],\n",
    "        [100, 100, 100, 100, 100],\n",
    "        [0, 0, 0, 0, 0],\n",
    "        [-100, -100, -100, -100, -100],\n",
    "        [-100, -100, -100, -100, -100],\n",
    "    ])\n",
    "    k1 = np.array([\n",
    "        [100, 100, 100, 100, 100],\n",
    "        [100, 100, 100, 78, -32],\n",
    "        [100, 92, 0, -92, -100],\n",
    "        [32, -78, -100, -100, -100],\n",
    "        [-100, -100, -100, -100, -100]\n",
    "    ])\n",
    "    k2 = np.array([\n",
    "        [100, 100, 100, 32, -100],\n",
    "        [100, 100, 92, -78, -100],\n",
    "        [100, 100, 0, -100, -100],\n",
    "        [100, 78, -92, -100, -100],\n",
    "        [100, -32, -100, -100, -100]\n",
    "    ])\n",
    "    k3 = np.array([\n",
    "        [-100, -100, 0, 100, 100],\n",
    "        [-100, -100, 0, 100, 100],\n",
    "        [-100, -100, 0, 100, 100],\n",
    "        [-100, -100, 0, 100, 100],\n",
    "        [-100, -100, 0, 100, 100]\n",
    "    ])\n",
    "    k4 = np.array([\n",
    "        [-100, 32, 100, 100, 100],\n",
    "        [-100, -78, 92, 100, 100],\n",
    "        [-100, -100, 0, 100, 100],\n",
    "        [-100, -100, -92, 78, 100],\n",
    "        [-100, -100, -100, -32, 100]\n",
    "    ])\n",
    "    k5 = np.array([\n",
    "        [100, 100, 100, 100, 100],\n",
    "        [-32, 78, 100, 100, 100],\n",
    "        [-100, -92, 0, 92, 100],\n",
    "        [-100, -100, -100, -78, 32],\n",
    "        [-100, -100, -100, -100, -100]\n",
    "    ])\n",
    "    G = np.zeros((img.shape[0] - 4, img.shape[1] - 4), np.int)\n",
    "    for i in xrange(G.shape[0]):\n",
    "        for j in xrange(G.shape[1]):\n",
    "            n0 = np.sum(img[i: i + 5, j: j + 5] * k0)\n",
    "            n1 = np.sum(img[i: i + 5, j: j + 5] * k1)\n",
    "            n2 = np.sum(img[i: i + 5, j: j + 5] * k2)\n",
    "            n3 = np.sum(img[i: i + 5, j: j + 5] * k3)\n",
    "            n4 = np.sum(img[i: i + 5, j: j + 5] * k4)\n",
    "            n5 = np.sum(img[i: i + 5, j: j + 5] * k5)\n",
    "            G[i, j] = np.max([n0, n1, n2, n3, n4, n5])\n",
    "    return G\n"
   ]
  },
  {
   "cell_type": "code",
   "execution_count": 16,
   "metadata": {},
   "outputs": [
    {
     "data": {
      "image/png": "[encoded data removed]",
      "text/plain": [
       "<PIL.Image.Image image mode=L size=512x512 at 0x7FB82A7B3F40>"
      ]
     },
     "execution_count": 16,
     "metadata": {},
     "output_type": "execute_result"
    }
   ],
   "source": [
    "PIL_image = Image.fromarray(roberts(sample_arr, 12)[1:-2].reshape(sample_arr.shape).astype('uint8'))\n",
    "PIL_image"
   ]
  },
  {
   "cell_type": "code",
   "execution_count": 14,
   "metadata": {},
   "outputs": [
    {
     "data": {
      "text/plain": [
       "512.001953125"
      ]
     },
     "execution_count": 14,
     "metadata": {},
     "output_type": "execute_result"
    }
   ],
   "source": [
    "262147 / 512"
   ]
  },
  {
   "cell_type": "code",
   "execution_count": 18,
   "metadata": {},
   "outputs": [],
   "source": [
    "img_bin = binarize(sample_arr, 12)"
   ]
  },
  {
   "cell_type": "code",
   "execution_count": 19,
   "metadata": {},
   "outputs": [
    {
     "data": {
      "image/png": "[encoded data removed]",
      "text/plain": [
       "<PIL.Image.Image image mode=L size=512x512 at 0x7FB8A9BFC2E0>"
      ]
     },
     "execution_count": 19,
     "metadata": {},
     "output_type": "execute_result"
    }
   ],
   "source": [
    "PIL_image = Image.fromarray(img_bin.astype('uint8'))\n",
    "PIL_image"
   ]
  },
  {
   "cell_type": "code",
   "execution_count": 21,
   "metadata": {},
   "outputs": [
    {
     "data": {
      "text/plain": [
       "0.0"
      ]
     },
     "execution_count": 21,
     "metadata": {},
     "output_type": "execute_result"
    }
   ],
   "source": [
    "img_bin.max()"
   ]
  },
  {
   "cell_type": "code",
   "execution_count": 26,
   "metadata": {},
   "outputs": [
    {
     "data": {
      "text/plain": [
       "0"
      ]
     },
     "execution_count": 26,
     "metadata": {},
     "output_type": "execute_result"
    }
   ],
   "source": [
    "(sample_arr <=12).sum()"
   ]
  },
  {
   "cell_type": "code",
   "execution_count": 27,
   "metadata": {},
   "outputs": [
    {
     "data": {
      "text/plain": [
       "array([[162, 162, 162, ..., 170, 155, 128],\n",
       "       [162, 162, 162, ..., 170, 155, 128],\n",
       "       [162, 162, 162, ..., 170, 155, 128],\n",
       "       ...,\n",
       "       [ 43,  43,  50, ..., 104, 100,  98],\n",
       "       [ 44,  44,  55, ..., 104, 105, 108],\n",
       "       [ 44,  44,  55, ..., 104, 105, 108]])"
      ]
     },
     "execution_count": 27,
     "metadata": {},
     "output_type": "execute_result"
    }
   ],
   "source": [
    "sample_arr"
   ]
  },
  {
   "cell_type": "code",
   "execution_count": null,
   "metadata": {},
   "outputs": [],
   "source": []
  }
 ],
 "metadata": {
  "kernelspec": {
   "display_name": "Python 3",
   "language": "python",
   "name": "python3"
  },
  "language_info": {
   "codemirror_mode": {
    "name": "ipython",
    "version": 3
   },
   "file_extension": ".py",
   "mimetype": "text/x-python",
   "name": "python",
   "nbconvert_exporter": "python",
   "pygments_lexer": "ipython3",
   "version": "3.8.5"
  }
 },
 "nbformat": 4,
 "nbformat_minor": 4
}
